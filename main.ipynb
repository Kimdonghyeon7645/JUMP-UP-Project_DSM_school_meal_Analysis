{
 "cells": [
  {
   "cell_type": "code",
   "execution_count": 2,
   "metadata": {},
   "outputs": [],
   "source": [
    "import requests\n",
    "from bs4 import BeautifulSoup"
   ]
  },
  {
   "cell_type": "code",
   "execution_count": 2,
   "metadata": {},
   "outputs": [],
   "source": [
    "# !pip install selenium"
   ]
  },
  {
   "cell_type": "code",
   "execution_count": 3,
   "metadata": {},
   "outputs": [],
   "source": [
    "from selenium import webdriver\n",
    "import time\n",
    "\n",
    "\n",
    "menu = dict()\n",
    "for i in range(1, 8):\n",
    "    html = requests.get(f'http://dsmhs.djsch.kr/boardCnts/list.do?type=default&page={i}&m=020503&s=dsmhs&boardID=54797')\n",
    "    soup = BeautifulSoup(html.text, 'html.parser')\n",
    "    for tr in soup.select_one('div.cntBody table').select('tbody tr'):\n",
    "        k = ' / '.join([tr.select('td')[-1].text, tr.select_one('td a').text.lstrip()])\n",
    "        v = tr.select_one('td a')['onclick'].split(':')[-1]\n",
    "        if '식단표' in k:    # 식단표면 skip\n",
    "            continue\n",
    "        menu.update({k: v})"
   ]
  },
  {
   "cell_type": "code",
   "execution_count": null,
   "metadata": {},
   "outputs": [
    {
     "name": "stdout",
     "output_type": "stream",
     "text": [
      "[0] 2020-08-18 / 9월 식재료 원산지 및 영양표시제\n",
      "[1] 2020-08-14 / 여름방학 식재료 원산지 및 영양표시제\n",
      "[2] 2020-08-02 / 8월 식재료 원산지 및 영양표시제\n",
      "[3] 2020-06-24 / 7월 식재료 원산지 및 영양표시제\n",
      "[4] 2020-05-31 / ​6월 식재료 원산지 및 영양표시제\n",
      "[5] 2020-05-18 / ​5월 식재료 원산지 및 영양표시제\n",
      "[6] 2019-11-27 / 12월~1월 식재료 원산지 및 영양표시제\n",
      "[7] 2019-10-23 / 11월 식재료 원산지 및 영양표시제\n",
      "[8] 2019-09-26 / 10월 식재료 원산지 및 영양표시제\n",
      "[9] 2019-08-25 / 9월 식재료 원산지 및 영양표시제\n",
      "[10] 2019-07-23 / 8월 식재료 원산지 및 영양표시제\n",
      "[11] 2019-06-27 / 7월 식재료 원산지 및 영양표시제\n",
      "[12] 2019-05-24 / 6월 식재료 원산지 및 영양표시제\n",
      "[13] 2019-04-30 / 5월 식재료 원산지 및 영양표시제\n",
      "[14] 2019-04-30 / 4월 식재료 원산지 및 영양표시제\n",
      "[15] 2019-02-22 / 3월 식재료원산지 및 영양표시제\n",
      "[16] 2018-12-23 / 2019년 1 - 2월 학교급식 식재료원산지 및 영양...\n",
      "[17] 2018-11-24 / 12월 학교급식 식재료 원산지 및 영양표시제\n",
      "[18] 2018-10-18 / 11월 학교급식 식재료 원산지 및 영양표시제\n",
      "[19] 2018-09-19 / 10월 학교급식 식재료 원산지 및 영양표시제\n",
      "[20] 2018-08-26 / 9월 학교급식 식재료 원산지 및 영양표시제\n",
      "[21] 2018-08-14 / 8월 학교급식 식재료 원산지 및 영양표시제\n",
      "[22] 2017-08-21 / 8월21일-9월 학교급식식재료 원산지 및 영양표...\n",
      "[23] 2017-07-04 / 7월 학기중 학교급식식재료 원산지 및 영양표...\n",
      "[24] 2017-05-26 / 6월 학교급식 식재료 원산지 및 영양표시제(...\n",
      "[25] 2017-04-21 / 5월 학교급식식재료 원산지 및 영양표시제\n",
      "[26] 2017-03-26 / 4월 학교급식 식재료원산지 및 영양표시제\n",
      "[27] 2017-03-03 / 3월 학교급식 식재료원산지 및 영양표시제\n"
     ]
    }
   ],
   "source": [
    "print(*[f'[{i:2>}] {n}' for i, n in enumerate(menu)], sep='\\n')\n",
    "word = input(\"\\n [!] 어떤 달의 식단을 분석할지 입력하세요 \\n(2020년 9월이면 '2020년 9월', 2020년 방학이면 '2020년 여름방학'과 같이 입력) : \")\n",
    "y, m = word.split(' ')\n",
    "func = None\n",
    "for i in menu:\n",
    "    if y[:-1] in i and m in i:\n",
    "        func = menu[i]\n",
    "        break\n",
    "\n",
    "file = ''\n",
    "if func:\n",
    "    try:\n",
    "#         options = webdriver.ChromeOptions()\n",
    "#         options.add_argument('headless')\n",
    "#         driver = webdriver.Chrome(r\"C:\\Users\\user\\Documents\\chromedriver.exe\", chrome_options=options)\n",
    "        driver = webdriver.Chrome(r\"C:\\Users\\user\\Documents\\chromedriver.exe\")\n",
    "        driver.get('http://dsmhs.djsch.kr/boardCnts/list.do?type=default&page=1&m=020503&s=dsmhs&boardID=54797')\n",
    "        time.sleep(2)\n",
    "        driver.execute_script(func)\n",
    "        time.sleep(3)\n",
    "        soup = BeautifulSoup(driver.page_source, 'html.parser')\n",
    "#         print('http://dsmhs.djsch.kr' + soup.select_one('article.board-text div.fieldBox dd a')['href'])\n",
    "#         print('http://dsmhs.djsch.kr' + soup.select_one('article.board-text div.fieldBox dd a.previewConvert')['href'])\n",
    "        file = 'http://dsmhs.djsch.kr' + soup.select_one('article.board-text div.fieldBox dd a')['href']\n",
    "    finally:\n",
    "        driver.close()"
   ]
  },
  {
   "cell_type": "code",
   "execution_count": null,
   "metadata": {},
   "outputs": [],
   "source": [
    "import pandas as pd\n",
    "\n",
    "print(file)\n",
    "xl=pd.ExcelFile(file)\n",
    "meal_li = []\n",
    "for meal in ['조식', '중식', '석식']:\n",
    "    li = []\n",
    "    for i in range(len(xl.parse(meal))//38):\n",
    "        # df = pd.DataFrame(xl.parse(meal)[i*38:(i+1)*38+1], columns=[f\"r{i}\" for i in range(12)])\n",
    "        df = xl.parse(meal)[i*39:(i+1)*39+1]\n",
    "        # del df['r7']\n",
    "        del df['Unnamed: 8']\n",
    "        li.append(df)\n",
    "    meal_li.append(li)\n",
    "choice = input('[!] 무슨 작업을 하실 것인지 아래의 선택지 중 선택하세요'\n",
    "               '\\n(특정 날짜 식단 분석 -> 1, 특정 주간 식단 분석 -> 2, 월 전체 식단 분석 -> 3)\\n(숫자를 입력하세요) : ')"
   ]
  },
  {
   "cell_type": "code",
   "execution_count": 1,
   "metadata": {},
   "outputs": [
    {
     "ename": "IndentationError",
     "evalue": "unexpected indent (<ipython-input-1-7ee2415f3f54>, line 7)",
     "output_type": "error",
     "traceback": [
      "\u001b[1;36m  File \u001b[1;32m\"<ipython-input-1-7ee2415f3f54>\"\u001b[1;36m, line \u001b[1;32m7\u001b[0m\n\u001b[1;33m    days = meal_li[i][wek-1].T.tail(7)\u001b[0m\n\u001b[1;37m    ^\u001b[0m\n\u001b[1;31mIndentationError\u001b[0m\u001b[1;31m:\u001b[0m unexpected indent\n"
     ]
    }
   ],
   "source": [
    "choice = 2\n",
    "if choice is 2:\n",
    "    wek = int(input(\"원하는 주를 입력하세요 (첫번째 주면 '1'입력) : \"))\n",
    "    ran = int(input('선택지를 선택하세요\\n(조식 분석 -> 1, 중식 분석 -> 2, 석식 분석 -> 3)\\n(숫자를 입력하세요) : '))\n",
    "# meal_li[0][0].T.tail(7)\n",
    "    for i in range(ran-1, ran):1\n",
    "        days = meal_li[i][wek-1].T.tail(7)\n",
    "        print(days)\n",
    "        print(days.T.head(3).tail(2).T)\n",
    "\n",
    "\n",
    "# if choice is 1:\n",
    "#     day = int(input(\"원하는 날짜를 입력하세요 (9일이면 '9'입력) : \"))\n",
    "#     ran = int(input(\"선택지를 선택하세요'\n",
    "#                     '\\n(조식, 중식, 석식 모두 분석 -> 0, 조식 분석 -> 1, 중식 분석 -> 2, 석식 분석 -> 3)\\n(숫자를 입력하세요) : \"))\n",
    "#     s, l = ran-1, ran\n",
    "#     if ran is 0:\n",
    "#         s, l = 0, 3\n",
    "#     for i in range(s, l):\n",
    "#         for j in meal_li[i]\n",
    "#             print(j.iloc[2])"
   ]
  },
  {
   "cell_type": "code",
   "execution_count": null,
   "metadata": {},
   "outputs": [],
   "source": []
  }
 ],
 "metadata": {
  "kernelspec": {
   "display_name": "Python 3",
   "language": "python",
   "name": "python3"
  },
  "language_info": {
   "codemirror_mode": {
    "name": "ipython",
    "version": 3
   },
   "file_extension": ".py",
   "mimetype": "text/x-python",
   "name": "python",
   "nbconvert_exporter": "python",
   "pygments_lexer": "ipython3",
   "version": "3.7.6"
  }
 },
 "nbformat": 4,
 "nbformat_minor": 4
}
